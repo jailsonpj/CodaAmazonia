{
  "nbformat": 4,
  "nbformat_minor": 0,
  "metadata": {
    "colab": {
      "name": "[nome]coda_amazonia_2022.ipynb",
      "provenance": []
    },
    "kernelspec": {
      "name": "python3",
      "display_name": "Python 3"
    },
    "language_info": {
      "name": "python"
    }
  },
  "cells": [
    {
      "cell_type": "code",
      "execution_count": null,
      "metadata": {
        "id": "08PX4DUDB6WT"
      },
      "outputs": [],
      "source": [
        "!sudo add-apt-repository -y ppa:dqlite/stable"
      ]
    },
    {
      "cell_type": "code",
      "source": [
        "!sudo apt update"
      ],
      "metadata": {
        "id": "75X7SV0xCBwG"
      },
      "execution_count": null,
      "outputs": []
    },
    {
      "cell_type": "code",
      "source": [
        "!sudo apt-get install -y sqlite3"
      ],
      "metadata": {
        "id": "734SsMnNCCMq"
      },
      "execution_count": null,
      "outputs": []
    },
    {
      "cell_type": "code",
      "source": [
        "!sqlite3 --version"
      ],
      "metadata": {
        "id": "zlIapkNNCCiG"
      },
      "execution_count": null,
      "outputs": []
    },
    {
      "cell_type": "code",
      "source": [
        "!pip install ipython-sql"
      ],
      "metadata": {
        "id": "LowQh2E4CC5F"
      },
      "execution_count": null,
      "outputs": []
    },
    {
      "cell_type": "code",
      "source": [
        ""
      ],
      "metadata": {
        "id": "8ELJq96PDzuo"
      },
      "execution_count": null,
      "outputs": []
    },
    {
      "cell_type": "code",
      "source": [
        ""
      ],
      "metadata": {
        "id": "kPocuiNUD0Ia"
      },
      "execution_count": null,
      "outputs": []
    },
    {
      "cell_type": "code",
      "source": [
        ""
      ],
      "metadata": {
        "id": "kZrdUv_QD0WT"
      },
      "execution_count": null,
      "outputs": []
    },
    {
      "cell_type": "code",
      "source": [
        "# %%sql\n",
        "# -- criando tabela de person\n",
        "# CREATE TABLE precos_combustiveis\n",
        "#   (ano INTEGER,\n",
        "#   sigla_uf VARCHAR(255),\n",
        "#   id_municipio VARCHAR(255),\n",
        "#   bairro_revenda VARCHAR(255),\n",
        "#   cep_revenda VARCHAR(255),\n",
        "#   endereco_revenda VARCHAR(255),\n",
        "#   cnpj_revenda VARCHAR(255),\n",
        "#   nome_estabelecimento VARCHAR(255),\n",
        "#   bandeira_revenda VARCHAR(255),\n",
        "#   data_coleta DATE,\n",
        "#   produto VARCHAR(255),\n",
        "#   unidade_medida VARCHAR(255),\n",
        "#   preco_compra FLOAT,\n",
        "#   preco_venda FLOAT\n",
        "# );"
      ],
      "metadata": {
        "id": "kN6thv8CD0pX"
      },
      "execution_count": null,
      "outputs": []
    },
    {
      "cell_type": "code",
      "source": [
        "# %%sql\n",
        "# -- criando tabela \n",
        "# -- ano\tsigla_uf\tid_municipio\ttempo_medio_deslocamento\tprop_deslocamento_acima_1_hora\n",
        "# CREATE TABLE tempo_deslocamento_casa_trabalho\n",
        "#   (ano INTEGER,\n",
        "#   sigla_uf VARCHAR(255),\n",
        "#   id_municipio VARCHAR(255),\n",
        "#   tempo_medio_deslocamento INTEGER,\n",
        "#   prop_deslocamento_acima_1_hora FLOAT\n",
        "#   );"
      ],
      "metadata": {
        "id": "BY6H7-kvD6Rz"
      },
      "execution_count": null,
      "outputs": []
    }
  ]
}